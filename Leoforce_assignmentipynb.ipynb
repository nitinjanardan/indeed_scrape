{
  "nbformat": 4,
  "nbformat_minor": 0,
  "metadata": {
    "colab": {
      "name": "Leoforce_assignmentipynb",
      "provenance": [],
      "collapsed_sections": []
    },
    "kernelspec": {
      "name": "python3",
      "display_name": "Python 3"
    },
    "language_info": {
      "name": "python"
    }
  },
  "cells": [
    {
      "cell_type": "code",
      "metadata": {
        "colab": {
          "base_uri": "https://localhost:8080/"
        },
        "id": "GAiM2THpmw0m",
        "outputId": "73b02ee0-9b69-469b-e902-f9962356ca31"
      },
      "source": [
        "# importing Libraries\n",
        "!pip3 install beautifulsoup4\n",
        "from bs4 import BeautifulSoup as bs\n",
        "import numpy as np\n",
        "import pandas as pd\n",
        "!pip install requests\n",
        "import requests\n",
        "from urllib.request import Request,urlopen\n",
        "import random\n"
      ],
      "execution_count": 4,
      "outputs": [
        {
          "output_type": "stream",
          "text": [
            "Requirement already satisfied: beautifulsoup4 in /usr/local/lib/python3.7/dist-packages (4.6.3)\n",
            "Requirement already satisfied: requests in /usr/local/lib/python3.7/dist-packages (2.23.0)\n",
            "Requirement already satisfied: certifi>=2017.4.17 in /usr/local/lib/python3.7/dist-packages (from requests) (2021.5.30)\n",
            "Requirement already satisfied: chardet<4,>=3.0.2 in /usr/local/lib/python3.7/dist-packages (from requests) (3.0.4)\n",
            "Requirement already satisfied: urllib3!=1.25.0,!=1.25.1,<1.26,>=1.21.1 in /usr/local/lib/python3.7/dist-packages (from requests) (1.24.3)\n",
            "Requirement already satisfied: idna<3,>=2.5 in /usr/local/lib/python3.7/dist-packages (from requests) (2.10)\n"
          ],
          "name": "stdout"
        }
      ]
    },
    {
      "cell_type": "code",
      "metadata": {
        "id": "ml_nfgVdB6_Q"
      },
      "source": [
        "#getting base url\n",
        "base_url = \"https://in.indeed.com/jobs?q=\""
      ],
      "execution_count": 5,
      "outputs": []
    },
    {
      "cell_type": "code",
      "metadata": {
        "colab": {
          "base_uri": "https://localhost:8080/"
        },
        "id": "9DwKsE3JnaiE",
        "outputId": "4539906c-0a93-49e3-9369-1e9c78b91a76"
      },
      "source": [
        "#Enter the designation and place\n",
        "designation = input(\"enter designation\")\n",
        "place = input(\"enter place\")\n",
        "\n",
        "#Hyderabad%2C+Telangana"
      ],
      "execution_count": 6,
      "outputs": [
        {
          "output_type": "stream",
          "text": [
            "enter designationanalyst\n",
            "enter placehyderabad\n"
          ],
          "name": "stdout"
        }
      ]
    },
    {
      "cell_type": "code",
      "metadata": {
        "colab": {
          "base_uri": "https://localhost:8080/"
        },
        "id": "8aWvG3mT4wZk",
        "outputId": "d48f4bc2-dc98-4c25-a333-ccb698f472d2"
      },
      "source": [
        "#print(designation)\n",
        "#print(place)\n",
        "desg = designation.split()\n",
        "if (len(desg)<2):\n",
        "  print(desg)\n",
        "else:\n",
        "  for i in range(len(desg)-1):\n",
        "    designation = desg[i]+\"+\"+desg[i+1]\n",
        "print(desg)"
      ],
      "execution_count": 357,
      "outputs": [
        {
          "output_type": "stream",
          "text": [
            "['developer']\n",
            "['developer']\n"
          ],
          "name": "stdout"
        }
      ]
    },
    {
      "cell_type": "code",
      "metadata": {
        "id": "DvbEtKkmm4uU"
      },
      "source": [
        "#getting for multiple pages right now fetching only 2 pages\n",
        "indeed_scrape =[]\n",
        "for i in range(0,20,10):\n",
        "  #str(i)\n",
        "  #print(type(i))\n",
        "  user_agent_list =[\n",
        "'Mozilla/5.0 (Macintosh; Intel Mac OS X 10_15_5) AppleWebKit/605.1.15 (KHTML, like Gecko) Version/13.1.1 Safari/605.1.15',\n",
        "'Mozilla/5.0 (Windows NT 10.0; Win64; x64; rv:77.0) Gecko/20100101 Firefox/77.0',\n",
        "'Mozilla/5.0 (Macintosh; Intel Mac OS X 10_15_5) AppleWebKit/537.36 (KHTML, like Gecko) Chrome/83.0.4103.97 Safari/537.36',\n",
        "'Mozilla/5.0 (Macintosh; Intel Mac OS X 10.15; rv:77.0) Gecko/20100101 Firefox/77.0',\n",
        "'Mozilla/5.0 (Windows NT 10.0; Win64; x64) AppleWebKit/537.36 (KHTML, like Gecko) Chrome/83.0.4103.97 Safari/537.36',\n",
        "]\n",
        "  user_agent = random.choice(user_agent_list)\n",
        "  headers = {'User-Agent': user_agent}\n",
        "  url = Request(base_url+designation+\"&l=\"+place+\"&start=\"+str(i), headers= headers)\n",
        "  scrape = urlopen(url).read()\n",
        "  indeed_soup = bs(scrape, 'html.parser')\n",
        "  indeed_scrape.append(indeed_soup)\n",
        "  #scraped_data(indeed_soup)\n",
        "  \n"
      ],
      "execution_count": 21,
      "outputs": []
    },
    {
      "cell_type": "code",
      "metadata": {
        "colab": {
          "base_uri": "https://localhost:8080/"
        },
        "id": "7EX0tcknqqRL",
        "outputId": "f8f9cfeb-bbd7-4187-9ca6-69dad2717067"
      },
      "source": [
        "# Fetching job title , company name , location , description\n",
        "scraped_job_titles = []\n",
        "scraped_job_location = []\n",
        "scraped_job_company = []\n",
        "scraped_job_summary = []\n",
        "for indeed in indeed_scrape:\n",
        "  # for getting job title\n",
        "  for title1 in indeed.find_all('a',attrs = {'data-tn-element':'jobTitle'}):\n",
        "    title = title1.text.strip()\n",
        "    scraped_job_titles.append(title)\n",
        "  # for location and company name\n",
        "  for location_name in indeed.find_all('div',{'class':'sjcl'}):\n",
        "    location = location_name.text.strip()\n",
        "    #print(location)\n",
        "    l = location.split(\"\\n\")\n",
        "    #print(l[-1])\n",
        "    #print(l[0])\n",
        "    scraped_job_location.append(l[-1])\n",
        "    scraped_job_company.append(l[0])\n",
        "  #for description  \n",
        "  for Summary in indeed.find_all('div',{'class':'summary'}):\n",
        "    summary_name = Summary.text.strip()\n",
        "    #print(summary_name)\n",
        "    s = summary_name.split(\"\\n\")\n",
        "    #s1 = s.strip()\n",
        "    #print(s)\n",
        "    scraped_job_summary.append(s)\n",
        "  \n",
        "print(\"-------------------------------------Location-------------------------------------\")\n",
        "print(scraped_job_location)\n",
        "print(len(scraped_job_location))\n",
        "print(\"-----------------------------------Company----------------------------------------\")\n",
        "print(scraped_job_company)\n",
        "print(len(scraped_job_company))\n",
        "print(\"-----------------------------------Job Title----------------------------------------\")\n",
        "print(scraped_job_titles)\n",
        "print(len(scraped_job_titles))\n",
        "print(\"-----------------------------------Description----------------------------------------\")\n",
        "print(scraped_job_summary)\n",
        "#print(type(scraped_job_summary))\n",
        "print(len(scraped_job_summary))"
      ],
      "execution_count": 22,
      "outputs": [
        {
          "output_type": "stream",
          "text": [
            "-------------------------------------Location-------------------------------------\n",
            "['Hyderabad, Telangana', 'Hyderabad, Telangana', 'Hyderabad, Telangana', 'Hyderabad, Telangana', 'Hyderabad, Telangana', 'Hyderabad, Telangana', 'Hyderabad, Telangana', 'Hyderabad, Telangana', 'Hyderabad, Telangana', 'Hyderabad, Telangana', 'Hyderabad, Telangana', 'Hyderabad, Telangana', 'Hyderabad, Telangana', 'Hyderabad, Telangana', 'Hyderabad, Telangana']\n",
            "15\n",
            "-----------------------------------Company----------------------------------------\n",
            "['Wells Fargo', 'Wells Fargo', 'Deloitte', 'Parexel', 'GD Research Center', 'Clarivate Analytics', 'Infosys BPM Limited', 'Wells Fargo', 'Deloitte', 'Cognizant - HQ', 'RB', 'Uber', 'Infosys Limited', 'Deloitte', 'Oracle']\n",
            "15\n",
            "-----------------------------------Job Title----------------------------------------\n",
            "['Operations Analyst 4_IC role', 'Contracts Analyst', 'Analyst – DRS - Deloitte Support Services India Private Limi...', 'Financial Analyst 2', 'Associate Analyst - Oil & Gas', 'Research Analyst', 'Business Analyst', 'Tech Operations Analyst', 'Analyst', 'Data Analyst', 'Analyst - GDO', 'Associate Risk Analyst I', 'Technology Analyst', 'GPS Pursuit design - Analyst', 'Business Analyst 1-Ops']\n",
            "15\n",
            "-----------------------------------Description----------------------------------------\n",
            "[['Our business outside of the U.S. mostly focuses on providing banking services for large corporate, government and financial institution clients.', 'The EGS Retail team supports Fulfillment, Home Equity & NUPRM teams stateside at various stages of loan processing, pre-underwriting, pre-closing and post…'], ['Our business outside of the U.S. mostly focuses on providing banking services for large corporate, government and financial institution clients.', 'Supply Chain Management aligns with business leaders across the enterprise to deliver advantageous supply solutions with acceptable third party risk.'], ['Some jobseekers appear to have been asked to pay money to specified bank accounts of individuals or entities as a condition of their selection for a ‘job’ with Deloitte.', 'Anyone who at any time has made or makes any payment to any party in exchange of promises of job or selection for a job with…'], ['The Finance Business Partner is expected to establish him/herself as a “co-pilot”, along with the Project Leader (PL), in steering a set of projects to their targeted financial goals (e.g. revenue, profitability, cash flow, etc.).', 'As such, the FBP acquires an understanding of the project economics…'], ['Producing written and data materials on markets, products or companies including descriptions and profiles to publishable standards.', 'Paraphrasing and restructuring written materials.', 'Managing and tracking timelines to ensure timely delivery.', 'Interacting regularly with team mates both formally,…'], ['Responsible for writing clear, concise and customized English scientific abstracts with required quality; indexing; secondary research; analyzing scientific material with speed, comprehension and discernment in a wide range of biomedical and scientific disciplines; rapidly collect and analyze…'], ['Insurance domain knowledge on Life, Annuity or property and Causality, preferably on Life Insurance domain.', 'Should have experience on any one Policy administration system or agent management and compensation platforms and exposure to external interfacing systems to administration systems 3.'], ['Our business outside of the U.S. mostly focuses on providing banking services for large corporate, government and financial institution clients.', 'Team Member Technologies (TMT) within the Enterprise Information Technology (EIT) business comprises of Enterprise Endpoint & Mobility Services, Enterprise…'], ['Some jobseekers appear to have been asked to pay money to specified bank accounts of individuals or entities as a condition of their selection for a ‘job’ with Deloitte.', 'Anyone who at any time has made or makes any payment to any party in exchange of promises of job or selection for a job with…'], ['Minimal Customer interaction under guidance.', 'Understands Domain Process/sub process, functions, terminologies (such as SOP, QC checklists).', 'Individuals in this role perform data entry of data received from Source documents into the respective Clinical/Safety database While peroforming this activity…'], ['Competitive Salary & excellent benefits package.', 'The Global Data Operations Analyst directly reports into the Global Data Operations Manager.', 'The role is responsible for managing the end-to-end operational Data Service for the assigned core Master Data object(s) (both captive and outsourced) across…'], ['The analyst will be responsible for supervising fraud trends around the world.', 'This analyst will successfully analyze trends, and deploy recommendations and algorithms which requires strong communication across product, engineering, data science, finance, and operations partners in a complex…'], ['A day in the life of an Infoscion • As part of the Infosys delivery team, your primary role would be to ensure effective Design, Development, Validation and Support activities, to assure that our clients are satisfied with the high levels of service in the technology domain.'], ['Some jobseekers appear to have been asked to pay money to specified bank accounts of individuals or entities as a condition of their selection for a ‘job’ with Deloitte.', 'Anyone who at any time has made or makes any payment to any party in exchange of promises of job or selection for a job with…'], ['The Business Operations Analyst supports the Manufacturing and Distribution department, a global organization in Oracle.', 'This role primarily deals with managing the billing and auditing process in support of Oracle’s freight and logistics.', \"As a member of Oracle's Manufacturing and Distribution…\"]]\n",
            "15\n"
          ],
          "name": "stdout"
        }
      ]
    },
    {
      "cell_type": "code",
      "metadata": {
        "id": "R5EB1QEZuQVT"
      },
      "source": [
        "# converting into data frame \n",
        "df = pd.DataFrame(\n",
        "    {'Title': scraped_job_titles,\n",
        "     'Company': scraped_job_company,\n",
        "     'Location': scraped_job_location,\n",
        "     'Description': scraped_job_summary\n",
        "    })"
      ],
      "execution_count": 15,
      "outputs": []
    },
    {
      "cell_type": "code",
      "metadata": {
        "colab": {
          "base_uri": "https://localhost:8080/"
        },
        "id": "n8n34x0luUGb",
        "outputId": "f44569b6-8f88-4900-9a12-974f6e1bb931"
      },
      "source": [
        "print(df)"
      ],
      "execution_count": 16,
      "outputs": [
        {
          "output_type": "stream",
          "text": [
            "                                                Title  ...                                        Description\n",
            "0                        Operations Analyst 4_IC role  ...  [Our business outside of the U.S. mostly focus...\n",
            "1                                   Contracts Analyst  ...  [Our business outside of the U.S. mostly focus...\n",
            "2   Analyst – DRS - Deloitte Support Services Indi...  ...  [Some jobseekers appear to have been asked to ...\n",
            "3                                 Financial Analyst 2  ...  [The Finance Business Partner is expected to e...\n",
            "4                       Associate Analyst - Oil & Gas  ...  [Producing written and data materials on marke...\n",
            "5                                    Research Analyst  ...  [Responsible for writing clear, concise and cu...\n",
            "6                                    Business Analyst  ...  [Insurance domain knowledge on Life, Annuity o...\n",
            "7                             Tech Operations Analyst  ...  [Our business outside of the U.S. mostly focus...\n",
            "8                                             Analyst  ...  [Some jobseekers appear to have been asked to ...\n",
            "9                                        Data Analyst  ...  [Minimal Customer interaction under guidance.,...\n",
            "10                                      Analyst - GDO  ...  [Competitive Salary & excellent benefits packa...\n",
            "11                           Associate Risk Analyst I  ...  [The analyst will be responsible for supervisi...\n",
            "12                                 Technology Analyst  ...  [A day in the life of an Infoscion • As part o...\n",
            "13                       GPS Pursuit design - Analyst  ...  [Some jobseekers appear to have been asked to ...\n",
            "14                             Business Analyst 1-Ops  ...  [The Business Operations Analyst supports the ...\n",
            "15                                      Analyst - GDO  ...  [Competitive Salary & excellent benefits packa...\n",
            "16                           Associate Risk Analyst I  ...  [The analyst will be responsible for supervisi...\n",
            "17                                 Technology Analyst  ...  [A day in the life of an Infoscion • As part o...\n",
            "18                       GPS Pursuit design - Analyst  ...  [Some jobseekers appear to have been asked to ...\n",
            "19                             Business Analyst 1-Ops  ...  [The Business Operations Analyst supports the ...\n",
            "20                      Payments Risk Analyst - India  ...  [This is a full-time position based in Hyderab...\n",
            "21               Sales Operations Analyst - VAS Sales  ...  [The Mixed Portfolio Sales Operations team is ...\n",
            "22          Technical Support Analyst - Hyderabad, TG  ...  [Positions in this function provide technical ...\n",
            "23                                 Process Analyst II  ...  [The primary focus of this role is to provide ...\n",
            "24                     Analyst-Capability Development  ...  [Years of Experience: 3-5 years., The key is a...\n",
            "\n",
            "[25 rows x 4 columns]\n"
          ],
          "name": "stdout"
        }
      ]
    }
  ]
}